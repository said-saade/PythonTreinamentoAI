{
 "cells": [
  {
   "cell_type": "code",
   "execution_count": 1,
   "id": "7a79112c",
   "metadata": {},
   "outputs": [],
   "source": [
    "import os\n",
    "from openai import OpenAI\n",
    "from dotenv import load_dotenv\n",
    "\n",
    "# Carregar variáveis de ambiente\n",
    "load_dotenv()\n",
    "client = OpenAI(api_key=os.getenv(\"OPENAI_API_KEY\"))"
   ]
  },
  {
   "cell_type": "markdown",
   "id": "18f7756a",
   "metadata": {},
   "source": [
    "### Verbosity\n",
    "- Níveis de detalhe na resposta"
   ]
  },
  {
   "cell_type": "code",
   "execution_count": 2,
   "id": "27127cae",
   "metadata": {},
   "outputs": [
    {
     "name": "stdout",
     "output_type": "stream",
     "text": [
      "\n",
      "--- Verbosity: LOW ---\n",
      "- Energia nuclear é a energia liberada do núcleo dos átomos.\n",
      "- Há duas formas principais:\n",
      "  - Fissão: quebra de núcleos pesados (como urânio) em partes menores, liberando muito calor. É o que as usinas usam hoje.\n",
      "  - Fusão: união de núcleos leves (como hidrogênio) em um mais pesado, liberando energia. É o processo do Sol; ainda está em desenvolvimento para uso comercial.\n",
      "- Como uma usina de fissão gera eletricidade:\n",
      "  - Nêutrons “quebram” átomos de urânio em um reator.\n",
      "  - O calor aquece água, vira vapor e move turbinas conectadas a geradores.\n",
      "  - Na operação, emite muito pouco CO₂.\n",
      "- Vantagens: alta produção de energia com pouca emissão de gases de efeito estufa; fornece eletricidade de forma contínua.\n",
      "- Desvantagens e riscos: resíduos radioativos que exigem armazenamento seguro por muito tempo; acidentes são raros, mas podem ser graves; construção cara e demorada; impactos da mineração.\n",
      "- Outras aplicações: medicina (radioisótopos para diagnóstico e tratamento), indústria, pesquisa e propulsão naval.\n",
      "- Observação: reatores não “explodem como bomba”; armas nucleares são tecnologias diferentes.\n"
     ]
    }
   ],
   "source": [
    "prompt = \"Explique de forma clara e acessível: O que é a energia nuclear?\"\n",
    "\n",
    "# Verbosity: LOW\n",
    "resp_low = client.responses.create(\n",
    "    model=\"gpt-5\",\n",
    "    input=[{ \"role\": \"user\", \"content\": prompt }],\n",
    "    text={\"verbosity\": \"low\"}\n",
    ")\n",
    "print(\"\\n--- Verbosity: LOW ---\")\n",
    "print(resp_low.output_text)"
   ]
  },
  {
   "cell_type": "code",
   "execution_count": 3,
   "id": "cbec7a53",
   "metadata": {},
   "outputs": [
    {
     "name": "stdout",
     "output_type": "stream",
     "text": [
      "\n",
      "--- Verbosity: MEDIUM ---\n",
      "Energia nuclear é a energia guardada no núcleo dos átomos. Ela pode ser liberada de duas formas:\n",
      "- Fissão: quando um núcleo pesado (como o do urânio) se parte em dois, liberando calor e nêutrons.\n",
      "- Fusão: quando dois núcleos leves (como do hidrogênio) se unem, liberando muita energia (é o que acontece no Sol).\n",
      "\n",
      "Como uma usina nuclear gera eletricidade (fissão):\n",
      "- Combustível: pastilhas de urânio ficam dentro de tubos metálicos, formando “varetas” de combustível.\n",
      "- Reação controlada: os núcleos de urânio se partem em cadeia, mas de forma controlada por barras que absorvem nêutrons e por água que modera a reação.\n",
      "- Geração de calor: a fissão libera calor, que aquece água e produz vapor.\n",
      "- Turbina e gerador: o vapor gira uma turbina ligada a um gerador, produzindo eletricidade.\n",
      "- Condensação: o vapor esfria, vira água de novo e o ciclo recomeça.\n",
      "\n",
      "Fusão nuclear:\n",
      "- Une núcleos leves (por exemplo, deutério e trítio) a temperaturas e pressões altíssimas.\n",
      "- É limpa em termos de CO2 e gera menos resíduos duradouros, mas ainda está em fase de pesquisa e demonstrações; não é comercial hoje.\n",
      "\n",
      "Vantagens da energia nuclear (fissão):\n",
      "- Baixa emissão de gases de efeito estufa durante a operação.\n",
      "- Produção contínua (funciona dia e noite, com vento ou sem).\n",
      "- Alta densidade de energia: uma pequena pastilha de urânio pode gerar tanta eletricidade quanto toneladas de carvão.\n",
      "- Pequena área ocupada por unidade de energia gerada.\n",
      "\n",
      "Desafios e preocupações:\n",
      "- Resíduos radioativos: em pequeno volume, mas alguns precisam de isolamento seguro por muito tempo (armazenados em piscinas e “dry casks”; soluções geológicas profundas são planejadas em vários países).\n",
      "- Segurança: acidentes graves são raros, mas têm impacto grande (como Chernobyl e Fukushima). Reatores modernos usam múltiplas barreiras e sistemas “passivos” de segurança para reduzir riscos.\n",
      "- Custo e prazo: construir usinas pode ser caro e demorado; exige regulação rigorosa e mão de obra especializada.\n",
      "- Proliferação: controle do ciclo do combustível para evitar uso indevido de materiais nucleares.\n",
      "\n",
      "Outros usos da tecnologia nuclear:\n",
      "- Medicina: radioterapia contra o câncer, diagnóstico por imagem (PET, medicina nuclear).\n",
      "- Indústria e agricultura: esterilização, inspeção de materiais, conservação de alimentos.\n",
      "- Propulsão naval: submarinos e porta-aviões.\n",
      "\n",
      "Ideias em desenvolvimento:\n",
      "- Reatores modulares pequenos (SMRs), que prometem construção mais rápida e custos menores.\n",
      "- Reatores de “quarta geração”, com melhor eficiência e menor produção de resíduos.\n",
      "- Fusão nuclear, com projetos experimentais como tokamaks e lasers.\n",
      "\n",
      "Resumo em uma frase:\n",
      "Energia nuclear é a eletricidade gerada a partir do calor liberado quando núcleos atômicos se partem (fissão) ou se unem (fusão), oferecendo alta potência com baixas emissões, mas exigindo cuidados rigorosos com segurança, resíduos e custos.\n"
     ]
    }
   ],
   "source": [
    "# Verbosity: MEDIUM\n",
    "resp_med = client.responses.create(\n",
    "    model=\"gpt-5\",\n",
    "    input=[{ \"role\": \"user\", \"content\": prompt }],\n",
    "    text={\"verbosity\": \"medium\"}\n",
    ")\n",
    "print(\"\\n--- Verbosity: MEDIUM ---\")\n",
    "print(resp_med.output_text)"
   ]
  },
  {
   "cell_type": "code",
   "execution_count": 4,
   "id": "b9b18bca",
   "metadata": {},
   "outputs": [
    {
     "name": "stdout",
     "output_type": "stream",
     "text": [
      "\n",
      "--- Verbosity: HIGH ---\n",
      "Energia nuclear é a energia guardada no núcleo dos átomos. Quando o núcleo de um átomo muda de forma — se dividindo ou se unindo a outro — parte da massa se transforma em energia. Isso acontece porque as forças dentro do núcleo são muito intensas, e uma pequena quantidade de massa pode virar uma grande quantidade de energia (é a ideia por trás de E = mc², de Einstein).\n",
      "\n",
      "Principais maneiras de obter energia nuclear\n",
      "- Fissão nuclear: é a tecnologia usada hoje em usinas. Núcleos pesados, como o urânio-235, podem se dividir em dois núcleos menores quando absorvem um nêutron. Essa divisão libera calor e mais nêutrons. Em um reator, essa reação em cadeia é mantida sob controle para produzir calor de forma contínua. O calor aquece água, que vira vapor, move turbinas e gera eletricidade — como numa usina térmica comum, mas sem queimar combustíveis fósseis.\n",
      "- Fusão nuclear: é quando núcleos leves, como os de hidrogênio, se juntam para formar núcleos mais pesados (como hélio). É o processo que alimenta o Sol e as estrelas. A fusão promete muita energia com poucos resíduos, mas exige temperaturas e pressões extremas. Existem protótipos e experimentos em andamento, porém ainda não é uma tecnologia comercial para gerar eletricidade.\n",
      "\n",
      "Por que a energia nuclear é tão concentrada?\n",
      "- As ligações no núcleo atômico são muito mais fortes do que as ligações químicas (as que envolvem elétrons, como nas reações de combustão).\n",
      "- Quando um núcleo muda (por fissão ou fusão), a massa total dos produtos é ligeiramente menor do que a massa inicial. Essa “diferença” de massa vira energia. Por isso, uma pequena quantidade de urânio pode gerar tanta eletricidade quanto muitas toneladas de carvão.\n",
      "\n",
      "Como funciona uma usina nuclear (em linhas simples)\n",
      "- Combustível: pastilhas de urânio (ou outro material físsil) agrupadas em varetas.\n",
      "- Reator: onde ocorre a fissão controlada, liberando calor.\n",
      "- Moderador e sistemas de controle: materiais e equipamentos que mantêm a reação estável e segura, absorvendo nêutrons e regulando a potência.\n",
      "- Circuito de vapor: o calor ferve água, o vapor gira uma turbina conectada a um gerador, que produz eletricidade.\n",
      "- Contenção: estruturas robustas que isolam o reator e aumentam a segurança.\n",
      "\n",
      "Para que serve a energia nuclear além da eletricidade?\n",
      "- Medicina: diagnóstico e tratamento (radioterapia, medicina nuclear com radiofármacos).\n",
      "- Indústria e agricultura: esterilização, detecção de espessura/material, irradiação de alimentos.\n",
      "- Pesquisa e ciência: produção de isótopos, estudos de materiais.\n",
      "- Transporte e espaço: propulsão de submarinos e navios; geradores de energia para sondas espaciais (com radioisótopos).\n",
      "\n",
      "Vantagens\n",
      "- Baixas emissões de carbono: durante a operação, emite muito pouco CO2, ajudando no combate às mudanças climáticas.\n",
      "- Alta disponibilidade: gera eletricidade de forma constante, independente do clima ou da hora do dia, complementando fontes como solar e eólica.\n",
      "- Densidade energética: muito energia em pouco combustível, o que reduz transporte e área ocupada.\n",
      "- Qualidade do ar: não libera poluentes atmosféricos como NOx, SO2 ou material particulado na operação.\n",
      "\n",
      "Desafios e riscos\n",
      "- Resíduos radioativos: precisam de gestão cuidadosa. A maior parte do volume de resíduos é de baixa e média atividade (com vida curta). A fração de alta atividade (o combustível usado) é pequena em volume, porém precisa de resfriamento e armazenamento seguro por longos períodos. As soluções incluem armazenamento em piscinas e depósitos a seco, e repositórios geológicos profundos. Há também pesquisas e práticas de reaproveitamento (reprocessamento) em alguns países.\n",
      "- Acidentes: são raros, mas podem ter consequências sérias. Eventos como Chernobyl (1986) e Fukushima (2011) levaram a melhorias significativas na segurança, desenho dos reatores e cultura operacional, incluindo sistemas “passivos” que ajudam a resfriar o reator mesmo sem energia externa.\n",
      "- Custos e prazos: construir usinas grandes pode ser caro e demorado, exigindo planejamento de longo prazo e forte governança.\n",
      "- Mineração e ciclo do combustível: exigem controles ambientais e de segurança ao longo de todo o ciclo.\n",
      "- Proliferação: a tecnologia nuclear civil é regulada internacionalmente para evitar uso indevido para fins bélicos.\n",
      "\n",
      "Segurança hoje\n",
      "- As usinas modernas usam o conceito de “defesa em profundidade”: várias camadas de proteção física e sistemas independentes que reduzem as chances de falhas e mitigam consequências.\n",
      "- Novos projetos enfatizam sistemas passivos de segurança (que funcionam por leis naturais, como gravidade e convecção) e projetos padronizados para facilitar construção e fiscalização.\n",
      "\n",
      "Comparação com outras fontes\n",
      "- Renováveis variáveis (solar e eólica) são limpas e baratas, mas dependem do clima; a nuclear pode fornecer base constante, ajudando a estabilizar a rede.\n",
      "- Hidrelétricas têm boa estabilidade, mas dependem de recursos hídricos e podem ter impactos locais significativos.\n",
      "- Combustíveis fósseis são flexíveis, porém emitem gases de efeito estufa e poluentes.\n",
      "\n",
      "Mitos comuns\n",
      "- “Usina nuclear é como uma bomba.” Não é. O design, a concentração do combustível e os sistemas de controle impedem que um reator opere como uma arma.\n",
      "- “Radiação só existe perto de usinas.” Radiação faz parte do ambiente natural (vinda do solo, do espaço, de alimentos). As usinas operam dentro de limites rigorosos e monitorados.\n",
      "- “Não há solução para os resíduos.” Existem técnicas de armazenamento seguro em longo prazo e experiências internacionais em repositórios geológicos; além disso, parte do combustível pode ser reaproveitada, e há pesquisa em reatores que reduzem a vida de alguns resíduos.\n",
      "\n",
      "O que vem por aí\n",
      "- Reatores modulares pequenos (SMRs): prometem construção mais rápida, custos previsíveis e aplicações flexíveis (incluindo calor industrial e dessalinização).\n",
      "- Reatores de próxima geração: alguns conceitos podem usar combustível de forma mais eficiente e reduzir certos tipos de resíduos.\n",
      "- Fusão: continua em desenvolvimento; se se tornar viável comercialmente, poderá ampliar o leque de opções de baixo carbono.\n",
      "\n",
      "Em resumo: energia nuclear é a energia liberada quando núcleos atômicos se dividem (fissão) ou se unem (fusão). Ela permite gerar grandes quantidades de eletricidade com baixas emissões de carbono, tem aplicações importantes em saúde e indústria, e vem acompanhada de desafios que exigem forte regulação, tecnologia madura e gestão responsável. Quando bem projetada e operada, pode ser uma peça útil no mix energético para um futuro mais limpo e confiável.\n"
     ]
    }
   ],
   "source": [
    "# Verbosity: HIGH\n",
    "resp_high = client.responses.create(\n",
    "    model=\"gpt-5\",\n",
    "    input=[{ \"role\": \"user\", \"content\": prompt }],\n",
    "    text={\"verbosity\": \"high\"}\n",
    ")\n",
    "print(\"\\n--- Verbosity: HIGH ---\")\n",
    "print(resp_high.output_text)\n"
   ]
  },
  {
   "cell_type": "markdown",
   "id": "69a6b6fd",
   "metadata": {},
   "source": [
    "### Reasoning\n",
    "- Níveis diferentes de esforço de raciocínio"
   ]
  },
  {
   "cell_type": "code",
   "execution_count": 5,
   "id": "6438c7ce",
   "metadata": {},
   "outputs": [
    {
     "name": "stdout",
     "output_type": "stream",
     "text": [
      "\n",
      "--- Reasoning: MINIMAL ---\n",
      "Distância = 80 km/h × 2 h + 60 km/h × 1 h = 160 km + 60 km = 220 km.\n"
     ]
    }
   ],
   "source": [
    "math_question = \"\"\"\n",
    "Se um trem viaja a 80 km/h por 2 horas e depois a 60 km/h por 1 hora, \n",
    "qual a distância total percorrida?\"\"\"\n",
    "\n",
    "# Reasoning: MINIMAL\n",
    "resp_min = client.responses.create(\n",
    "    model=\"gpt-5-mini\",\n",
    "    input=[{ \"role\": \"user\", \"content\": math_question }],\n",
    "    reasoning={\"effort\": \"minimal\"},\n",
    "    text={\"verbosity\": \"low\"}\n",
    ")\n",
    "print(\"\\n--- Reasoning: MINIMAL ---\")\n",
    "print(resp_min.output_text)"
   ]
  },
  {
   "cell_type": "code",
   "execution_count": 6,
   "id": "8fc51a4b",
   "metadata": {},
   "outputs": [
    {
     "name": "stdout",
     "output_type": "stream",
     "text": [
      "\n",
      "--- Reasoning: LOW ---\n",
      "Distância total = 80 km/h × 2 h + 60 km/h × 1 h = 160 km + 60 km = 220 km.\n"
     ]
    }
   ],
   "source": [
    "# Reasoning: LOW\n",
    "resp_low = client.responses.create(\n",
    "    model=\"gpt-5-nano\",\n",
    "    input=[{ \"role\": \"user\", \"content\": math_question }],\n",
    "    reasoning={\"effort\": \"low\"},\n",
    "    text={\"verbosity\": \"low\"}\n",
    ")\n",
    "print(\"\\n--- Reasoning: LOW ---\")\n",
    "print(resp_low.output_text)"
   ]
  },
  {
   "cell_type": "code",
   "execution_count": 7,
   "id": "eb83f28d",
   "metadata": {},
   "outputs": [
    {
     "name": "stdout",
     "output_type": "stream",
     "text": [
      "\n",
      "--- Reasoning: HIGH ---\n",
      "220 km (80×2 + 60×1 = 160 + 60)\n"
     ]
    }
   ],
   "source": [
    "# Reasoning: HIGH\n",
    "resp_high = client.responses.create(\n",
    "    model=\"gpt-5\",\n",
    "    input=[{ \"role\": \"user\", \"content\": math_question }],\n",
    "    reasoning={\"effort\": \"high\"},\n",
    "    text={\"verbosity\": \"low\"}\n",
    ")\n",
    "print(\"\\n--- Reasoning: HIGH ---\")\n",
    "print(resp_high.output_text)"
   ]
  }
 ],
 "metadata": {
  "kernelspec": {
   "display_name": "Python 3 (ipykernel)",
   "language": "python",
   "name": "python3"
  },
  "language_info": {
   "codemirror_mode": {
    "name": "ipython",
    "version": 3
   },
   "file_extension": ".py",
   "mimetype": "text/x-python",
   "name": "python",
   "nbconvert_exporter": "python",
   "pygments_lexer": "ipython3",
   "version": "3.11.5"
  }
 },
 "nbformat": 4,
 "nbformat_minor": 5
}
