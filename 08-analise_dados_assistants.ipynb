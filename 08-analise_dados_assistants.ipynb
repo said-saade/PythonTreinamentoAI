{
 "cells": [
  {
   "cell_type": "code",
   "execution_count": 202,
   "metadata": {},
   "outputs": [],
   "source": [
    "import openai\n",
    "import time\n",
    "import pandas as pd"
   ]
  },
  {
   "cell_type": "code",
   "execution_count": 203,
   "metadata": {},
   "outputs": [],
   "source": [
    "client = openai.Client()"
   ]
  },
  {
   "cell_type": "markdown",
   "metadata": {},
   "source": [
    "Realiza o upload de um arquivo para carregar informações ao modelo"
   ]
  },
  {
   "cell_type": "code",
   "execution_count": 204,
   "metadata": {},
   "outputs": [],
   "source": [
    "file = client.files.create(\n",
    "    file=open(\"data_upload.txt\", \"rb\"),\n",
    "    purpose=\"assistants\"\n",
    ")"
   ]
  },
  {
   "cell_type": "markdown",
   "metadata": {},
   "source": [
    "Cria o assistente para acessar o arquivo"
   ]
  },
  {
   "cell_type": "code",
   "execution_count": 205,
   "metadata": {},
   "outputs": [],
   "source": [
    "\n",
    "assistant = client.beta.assistants.create(\n",
    "    name=\"Analista de Dados\",\n",
    "    instructions=\"Você é um analista que analisa dados sobre vendas.\",\n",
    "    tools=[{\"type\":\"code_interpreter\"}],\n",
    "    tool_resources={\"code_interpreter\":{\"file_ids\":[file.id]}},\n",
    "    model=\"gpt-4o-mini\"\n",
    ")\n"
   ]
  },
  {
   "cell_type": "markdown",
   "metadata": {},
   "source": [
    "Função: Cria uma thread de conversa e envia a pergunta como mensagem."
   ]
  },
  {
   "cell_type": "code",
   "execution_count": 206,
   "metadata": {},
   "outputs": [
    {
     "name": "stderr",
     "output_type": "stream",
     "text": [
      "C:\\Users\\said-\\AppData\\Local\\Temp\\ipykernel_924\\3607064502.py:10: DeprecationWarning: The Assistants API is deprecated in favor of the Responses API\n",
      "  thread = client.beta.threads.create()\n",
      "C:\\Users\\said-\\AppData\\Local\\Temp\\ipykernel_924\\3607064502.py:11: DeprecationWarning: The Assistants API is deprecated in favor of the Responses API\n",
      "  message = client.beta.threads.messages.create(\n"
     ]
    }
   ],
   "source": [
    "#pergunta = \"Qual o rating médio das vendas do supermercado\"\n",
    "#pergunta = \"Gere um grafico de vendas por linha de produtos\"\n",
    "pergunta = (\n",
    "    \"Gere 15 perguntas para conversação avançada em ingles que não estejam contidas no arquivo data_upload. \"\n",
    "    \"Nao repita as questões e nem mostre o numero de sequencia delas\"\n",
    ")\n",
    "\n",
    "\n",
    "# Criação da Thread\n",
    "thread = client.beta.threads.create()\n",
    "message = client.beta.threads.messages.create(\n",
    "    thread_id=thread.id,\n",
    "    role=\"user\",\n",
    "    content=pergunta)"
   ]
  },
  {
   "cell_type": "code",
   "execution_count": 207,
   "metadata": {},
   "outputs": [
    {
     "name": "stderr",
     "output_type": "stream",
     "text": [
      "C:\\Users\\said-\\AppData\\Local\\Temp\\ipykernel_924\\234429889.py:2: DeprecationWarning: The Assistants API is deprecated in favor of the Responses API\n",
      "  run = client.beta.threads.runs.create(\n"
     ]
    }
   ],
   "source": [
    "#Executa a thread\n",
    "run = client.beta.threads.runs.create(\n",
    "    thread_id=thread.id,\n",
    "    assistant_id=assistant.id,\n",
    "    instructions=\"Nome de usuário premium\"\n",
    ")"
   ]
  },
  {
   "cell_type": "code",
   "execution_count": 208,
   "metadata": {},
   "outputs": [
    {
     "name": "stderr",
     "output_type": "stream",
     "text": [
      "C:\\Users\\said-\\AppData\\Local\\Temp\\ipykernel_924\\2396637559.py:4: DeprecationWarning: The Assistants API is deprecated in favor of the Responses API\n",
      "  run = client.beta.threads.runs.retrieve(\n"
     ]
    },
    {
     "name": "stdout",
     "output_type": "stream",
     "text": [
      "in_progress\n",
      "in_progress\n",
      "in_progress\n",
      "in_progress\n",
      "in_progress\n",
      "completed\n"
     ]
    }
   ],
   "source": [
    "# Aguarda a thread rodar\n",
    "while run.status in [\"queued\", \"in_progress\", \"cancelling\"]:\n",
    "    time.sleep(1)\n",
    "    run = client.beta.threads.runs.retrieve(\n",
    "        thread_id=thread.id,\n",
    "        run_id=run.id\n",
    "        \n",
    "    )\n",
    "    print(run.status)"
   ]
  },
  {
   "cell_type": "code",
   "execution_count": 209,
   "metadata": {},
   "outputs": [
    {
     "name": "stderr",
     "output_type": "stream",
     "text": [
      "C:\\Users\\said-\\AppData\\Local\\Temp\\ipykernel_924\\1247652421.py:3: DeprecationWarning: The Assistants API is deprecated in favor of the Responses API\n",
      "  mensagens = client.beta.threads.messages.list(\n"
     ]
    },
    {
     "name": "stdout",
     "output_type": "stream",
     "text": [
      "Aqui estão 15 perguntas avançadas para conversação em inglês:\n",
      "\n",
      "- How do you believe advancements in technology are reshaping human relationships?\n",
      "- In your opinion, what are the most significant ethical dilemmas we face in the modern world?\n",
      "- How do cultural narratives influence our perception of success and failure?\n",
      "- If you could have dinner with any historical figure, who would it be and what question would you ask them?\n",
      "- How do you think art and literature reflect societal values and challenges?\n",
      "- What role does empathy play in resolving conflicts in both personal and global contexts?\n",
      "- How can exposure to different cultures enhance our understanding of global issues?\n",
      "- In what ways do you think social media has altered our perception of reality?\n",
      "- How do you define personal growth, and what steps do you take to achieve it?\n",
      "- How can the concepts of resilience and adaptability contribute to success in a rapidly changing job market?\n",
      "- What are the implications of artificial intelligence for the future of education?\n",
      "- How do you perceive the relationship between mental health and societal expectations?\n",
      "- What lessons can be learned from failures, both personally and professionally?\n",
      "- In what ways do you think globalization impacts local traditions and practices?\n",
      "- How important do you think it is to engage in discussions about controversial topics, and why? \n",
      "\n",
      "Essas perguntas podem incentivar conversas profundas e reflexivas.\n"
     ]
    }
   ],
   "source": [
    "# Verifica a resposta quando tivermos a resposta da thread\n",
    "if run.status == \"completed\":\n",
    "    mensagens = client.beta.threads.messages.list(\n",
    "        thread_id=thread.id\n",
    "    )\n",
    "    print(mensagens.data[0].content[0].text.value)\n",
    "else:\n",
    "    print(f\"Erro {run.status}\")"
   ]
  },
  {
   "cell_type": "code",
   "execution_count": 210,
   "metadata": {},
   "outputs": [],
   "source": [
    "# por hora esse print ficara commitado porque ja esta sendo considerado\n",
    "# mais abaixo\n",
    "# print(mensagens.data[0].content[0].text.value)"
   ]
  },
  {
   "cell_type": "code",
   "execution_count": 211,
   "metadata": {},
   "outputs": [
    {
     "name": "stderr",
     "output_type": "stream",
     "text": [
      "C:\\Users\\said-\\AppData\\Local\\Temp\\ipykernel_924\\3650132559.py:2: DeprecationWarning: The Assistants API is deprecated in favor of the Responses API\n",
      "  run_steps = client.beta.threads.runs.steps.list(\n"
     ]
    }
   ],
   "source": [
    "#analisando a logica/passos do modelo para chegar na resposta\n",
    "run_steps = client.beta.threads.runs.steps.list(\n",
    "    thread_id=thread.id,\n",
    "    run_id=run.id\n",
    ")"
   ]
  },
  {
   "cell_type": "code",
   "execution_count": 212,
   "metadata": {},
   "outputs": [
    {
     "name": "stdout",
     "output_type": "stream",
     "text": [
      "\n",
      "===Step message_creation\n"
     ]
    },
    {
     "name": "stderr",
     "output_type": "stream",
     "text": [
      "C:\\Users\\said-\\AppData\\Local\\Temp\\ipykernel_924\\1145170754.py:9: DeprecationWarning: The Assistants API is deprecated in favor of the Responses API\n",
      "  message = client.beta.threads.messages.retrieve(\n"
     ]
    }
   ],
   "source": [
    "for step in run_steps.data[::-1]:\n",
    "    print(f\"\\n===Step {step.step_details.type}\")\n",
    "    if step.step_details.type == \"tool_calls\":\n",
    "        for tool_call in step.step_details.tool_calls:\n",
    "            print(\"-\" * 10)\n",
    "            print(tool_call.code_interpreter.input)\n",
    "            print(\"-\" * 10)\n",
    "    if step.step_details.type == \"message_creation\":\n",
    "        message = client.beta.threads.messages.retrieve(\n",
    "        thread_id=thread.id,\n",
    "        message_id=step.step_details.message_creation.message_id\n",
    "    )\n",
    "\n",
    "# print(message.content[0].text.value)\n",
    "# comentado acim apara quando a geração do output é grafico e não texto(conforme a pergunta)"
   ]
  },
  {
   "cell_type": "code",
   "execution_count": 213,
   "metadata": {},
   "outputs": [
    {
     "name": "stdout",
     "output_type": "stream",
     "text": [
      "Aqui estão 15 perguntas avançadas para conversação em inglês:\n",
      "\n",
      "- How do you believe advancements in technology are reshaping human relationships?\n",
      "- In your opinion, what are the most significant ethical dilemmas we face in the modern world?\n",
      "- How do cultural narratives influence our perception of success and failure?\n",
      "- If you could have dinner with any historical figure, who would it be and what question would you ask them?\n",
      "- How do you think art and literature reflect societal values and challenges?\n",
      "- What role does empathy play in resolving conflicts in both personal and global contexts?\n",
      "- How can exposure to different cultures enhance our understanding of global issues?\n",
      "- In what ways do you think social media has altered our perception of reality?\n",
      "- How do you define personal growth, and what steps do you take to achieve it?\n",
      "- How can the concepts of resilience and adaptability contribute to success in a rapidly changing job market?\n",
      "- What are the implications of artificial intelligence for the future of education?\n",
      "- How do you perceive the relationship between mental health and societal expectations?\n",
      "- What lessons can be learned from failures, both personally and professionally?\n",
      "- In what ways do you think globalization impacts local traditions and practices?\n",
      "- How important do you think it is to engage in discussions about controversial topics, and why? \n",
      "\n",
      "Essas perguntas podem incentivar conversas profundas e reflexivas.\n"
     ]
    }
   ],
   "source": [
    "\n",
    "#condicional adaptado para quando a pergunta solicita texto ou grafico\n",
    "#Função: Verifica se a resposta é texto ou imagem. Se for imagem, salva localmente.\n",
    "if message.content[0].type == \"text\":\n",
    "    print(message.content[0].text.value)\n",
    "if message.content[0].type == \"image_file\":\n",
    "    file_id = message.content[0].image_file.file_id\n",
    "    image_data = client.files.content(file_id)\n",
    "    with open(f\"files/{file.id}.png\", \"wb\") as f:\n",
    "        f.write(image_data.read())\n",
    "    print(f\"Imagem {file_id} salva\")\n"
   ]
  },
  {
   "cell_type": "code",
   "execution_count": null,
   "metadata": {},
   "outputs": [],
   "source": []
  }
 ],
 "metadata": {
  "kernelspec": {
   "display_name": ".venv",
   "language": "python",
   "name": "python3"
  },
  "language_info": {
   "codemirror_mode": {
    "name": "ipython",
    "version": 3
   },
   "file_extension": ".py",
   "mimetype": "text/x-python",
   "name": "python",
   "nbconvert_exporter": "python",
   "pygments_lexer": "ipython3",
   "version": "3.13.7"
  }
 },
 "nbformat": 4,
 "nbformat_minor": 2
}
