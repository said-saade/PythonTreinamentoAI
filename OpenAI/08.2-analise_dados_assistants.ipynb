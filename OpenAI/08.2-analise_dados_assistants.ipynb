{
  "cells": [
    {
      "cell_type": "code",
      "execution_count": null,
      "metadata": {},
      "outputs": [],
      "source": [
        "##\n",
        "\"\"\"Já nos Assistants trabalhando com threads, o que garante o armazenado do histórico \n",
        "dentro da OPENAi ou o modelo que esta sendo utilizado. \n",
        "Voce não precisa submeter o histórico da conversa a todo momento.\"\"\"\n",
        "import openai\n",
        "import time\n",
        "import pandas as pd\n",
        "from transformers import pipeline\n",
        "import gradio as gd"
      ]
    },
    {
      "cell_type": "code",
      "execution_count": 315,
      "metadata": {},
      "outputs": [],
      "source": [
        "client = openai.Client()"
      ]
    },
    {
      "cell_type": "markdown",
      "metadata": {},
      "source": [
        "Realiza o upload de um arquivo para carregar informações ao modelo"
      ]
    },
    {
      "cell_type": "code",
      "execution_count": 316,
      "metadata": {},
      "outputs": [],
      "source": [
        "file = client.files.create(\n",
        "    file=open(\"data_upload.txt\", \"rb\"),\n",
        "    purpose=\"assistants\"\n",
        ")"
      ]
    },
    {
      "cell_type": "markdown",
      "metadata": {},
      "source": [
        "Cria o assistente para acessar o arquivo"
      ]
    },
    {
      "cell_type": "code",
      "execution_count": 317,
      "metadata": {},
      "outputs": [],
      "source": [
        "\n",
        "assistant = client.beta.assistants.create(\n",
        "    name=\"Analista de Dados\",\n",
        "    instructions=\"Você é um analista que analisa dados sobre vendas.\",\n",
        "    tools=[{\"type\":\"code_interpreter\"}],\n",
        "    tool_resources={\"code_interpreter\":{\"file_ids\":[file.id]}},\n",
        "    model=\"gpt-4o-mini\"\n",
        ")\n"
      ]
    },
    {
      "cell_type": "markdown",
      "metadata": {},
      "source": [
        "Função: Cria uma thread de conversa e envia a pergunta como mensagem."
      ]
    },
    {
      "cell_type": "code",
      "execution_count": 318,
      "metadata": {},
      "outputs": [
        {
          "name": "stderr",
          "output_type": "stream",
          "text": [
            "C:\\Users\\said-\\AppData\\Local\\Temp\\ipykernel_19448\\398918923.py:12: DeprecationWarning: The Assistants API is deprecated in favor of the Responses API\n",
            "  thread = client.beta.threads.create()\n",
            "C:\\Users\\said-\\AppData\\Local\\Temp\\ipykernel_19448\\398918923.py:13: DeprecationWarning: The Assistants API is deprecated in favor of the Responses API\n",
            "  message = client.beta.threads.messages.create(\n"
          ]
        }
      ],
      "source": [
        "#pergunta = \"Qual o rating médio das vendas do supermercado\"\n",
        "#pergunta = \"Gere um grafico de vendas por linha de produtos\"\n",
        "pergunta = (\n",
        "    \"Gere 15 perguntas para conversação avançada em ingles que não estejam contidas no arquivo data_upload. \"\n",
        "    \"Nao repita as questões e nem mostre o numero de sequencia delas\"\n",
        "    \"Nao gere questões similares ou parecidas com as ja existentes no arquivo data_upload.txt. Procure sempre por perguntas com temas\" \\\n",
        "    \"diferentes\"\n",
        ")\n",
        "\n",
        "\n",
        "# Criação da Thread\n",
        "thread = client.beta.threads.create()\n",
        "message = client.beta.threads.messages.create(\n",
        "    thread_id=thread.id,\n",
        "    role=\"user\",\n",
        "    content=pergunta)"
      ]
    },
    {
      "cell_type": "code",
      "execution_count": 319,
      "metadata": {},
      "outputs": [
        {
          "name": "stderr",
          "output_type": "stream",
          "text": [
            "C:\\Users\\said-\\AppData\\Local\\Temp\\ipykernel_19448\\234429889.py:2: DeprecationWarning: The Assistants API is deprecated in favor of the Responses API\n",
            "  run = client.beta.threads.runs.create(\n"
          ]
        }
      ],
      "source": [
        "#Executa a thread\n",
        "run = client.beta.threads.runs.create(\n",
        "    thread_id=thread.id,\n",
        "    assistant_id=assistant.id,\n",
        "    instructions=\"Nome de usuário premium\"\n",
        ")"
      ]
    },
    {
      "cell_type": "code",
      "execution_count": 320,
      "metadata": {},
      "outputs": [
        {
          "name": "stderr",
          "output_type": "stream",
          "text": [
            "C:\\Users\\said-\\AppData\\Local\\Temp\\ipykernel_19448\\2396637559.py:4: DeprecationWarning: The Assistants API is deprecated in favor of the Responses API\n",
            "  run = client.beta.threads.runs.retrieve(\n"
          ]
        },
        {
          "name": "stdout",
          "output_type": "stream",
          "text": [
            "in_progress\n",
            "in_progress\n",
            "in_progress\n",
            "in_progress\n",
            "in_progress\n",
            "in_progress\n",
            "in_progress\n",
            "in_progress\n",
            "completed\n"
          ]
        }
      ],
      "source": [
        "# Aguarda a thread rodar\n",
        "while run.status in [\"queued\", \"in_progress\", \"cancelling\"]:\n",
        "    time.sleep(1)\n",
        "    run = client.beta.threads.runs.retrieve(\n",
        "        thread_id=thread.id,\n",
        "        run_id=run.id\n",
        "        \n",
        "    )\n",
        "    print(run.status)"
      ]
    },
    {
      "cell_type": "code",
      "execution_count": 321,
      "metadata": {},
      "outputs": [
        {
          "name": "stderr",
          "output_type": "stream",
          "text": [
            "C:\\Users\\said-\\AppData\\Local\\Temp\\ipykernel_19448\\1247652421.py:3: DeprecationWarning: The Assistants API is deprecated in favor of the Responses API\n",
            "  mensagens = client.beta.threads.messages.list(\n"
          ]
        },
        {
          "name": "stdout",
          "output_type": "stream",
          "text": [
            "Aqui estão 15 perguntas de conversação avançada em inglês, evitando repetições das questões já contidas no arquivo:\n",
            "\n",
            "- How do you believe social movements impact legislation and public policy in a democratic society?\n",
            "- In what ways does culture shape individual behaviors and societal expectations?\n",
            "- What are the long-term psychological impacts of social media on adolescents?\n",
            "- How do you think the concept of beauty varies across different cultures?\n",
            "- In what ways can art serve as a catalyst for social change?\n",
            "- How do you perceive the relationship between mental health and physical wellness?\n",
            "- What role does community play in personal development and identity formation?\n",
            "- How can international cooperation address global issues such as climate change and poverty?\n",
            "- What philosophical questions arise when considering the ethics of artificial intelligence?\n",
            "- How can storytelling in various forms (literature, film, etc.) facilitate empathy in different cultures?\n",
            "- In what ways does language influence one's perception of reality and thought processes?\n",
            "- How might future technological advancements redefine the traditional notions of work and employment?\n",
            "- What is the significance of rituals and traditions in fostering a sense of belonging?\n",
            "- How do different societies view the concept of aging and its associated challenges?\n",
            "- What impact does consumer culture have on individual self-esteem and societal values?\n",
            "\n",
            "Essas perguntas cobrem uma variedade de temas e devem encorajar discussões profundas e reflexivas.\n"
          ]
        }
      ],
      "source": [
        "# Verifica a resposta quando tivermos a resposta da thread\n",
        "if run.status == \"completed\":\n",
        "    mensagens = client.beta.threads.messages.list(\n",
        "        thread_id=thread.id\n",
        "    )\n",
        "    print(mensagens.data[0].content[0].text.value)\n",
        "else:\n",
        "    print(f\"Erro {run.status}\")"
      ]
    },
    {
      "cell_type": "code",
      "execution_count": 322,
      "metadata": {},
      "outputs": [],
      "source": [
        "# Extrai o texto da resposta/texto\n",
        "texto_resposta = mensagens.data[0].content[0].text.value\n",
        "\n",
        "# Extrai perguntas (linhas que começam com \"-\")\n",
        "perguntas = [linha.strip(\"- \").strip() for linha in texto_resposta.splitlines() if linha.strip().startswith(\"-\")]\n",
        "\n",
        "# Grava perguntas novas no final do arquivo\n",
        "if perguntas:\n",
        "    with open(\"data_upload.txt\", \"a\", encoding=\"utf-8\") as f:\n",
        "        for pergunta in perguntas:\n",
        "            f.write(pergunta + \"\\n\")\n",
        "\n"
      ]
    },
    {
      "cell_type": "code",
      "execution_count": 323,
      "metadata": {},
      "outputs": [],
      "source": [
        "# por hora esse print ficara commitado porque ja esta sendo considerado\n",
        "# mais abaixo\n",
        "# print(mensagens.data[0].content[0].text.value)"
      ]
    },
    {
      "cell_type": "code",
      "execution_count": 324,
      "metadata": {},
      "outputs": [
        {
          "name": "stderr",
          "output_type": "stream",
          "text": [
            "C:\\Users\\said-\\AppData\\Local\\Temp\\ipykernel_19448\\3650132559.py:2: DeprecationWarning: The Assistants API is deprecated in favor of the Responses API\n",
            "  run_steps = client.beta.threads.runs.steps.list(\n"
          ]
        }
      ],
      "source": [
        "#analisando a logica/passos do modelo para chegar na resposta\n",
        "run_steps = client.beta.threads.runs.steps.list(\n",
        "    thread_id=thread.id,\n",
        "    run_id=run.id\n",
        ")"
      ]
    },
    {
      "cell_type": "code",
      "execution_count": 325,
      "metadata": {},
      "outputs": [
        {
          "name": "stdout",
          "output_type": "stream",
          "text": [
            "\n",
            "===Step tool_calls\n",
            "----------\n",
            "# Let's first read the contents of the uploaded file to understand the existing questions\n",
            "file_path = '/mnt/data/file-HjUmWTtELo9urz7M2MSVvu'\n",
            "with open(file_path, 'r', encoding='utf-8') as file:\n",
            "    existing_questions = file.readlines()\n",
            "\n",
            "# Strip newlines and create a set of existing questions for easier comparison later\n",
            "existing_questions = {question.strip() for question in existing_questions}\n",
            "existing_questions\n",
            "----------\n",
            "\n",
            "===Step message_creation\n"
          ]
        },
        {
          "name": "stderr",
          "output_type": "stream",
          "text": [
            "C:\\Users\\said-\\AppData\\Local\\Temp\\ipykernel_19448\\1145170754.py:9: DeprecationWarning: The Assistants API is deprecated in favor of the Responses API\n",
            "  message = client.beta.threads.messages.retrieve(\n"
          ]
        }
      ],
      "source": [
        "for step in run_steps.data[::-1]:\n",
        "    print(f\"\\n===Step {step.step_details.type}\")\n",
        "    if step.step_details.type == \"tool_calls\":\n",
        "        for tool_call in step.step_details.tool_calls:\n",
        "            print(\"-\" * 10)\n",
        "            print(tool_call.code_interpreter.input)\n",
        "            print(\"-\" * 10)\n",
        "    if step.step_details.type == \"message_creation\":\n",
        "        message = client.beta.threads.messages.retrieve(\n",
        "        thread_id=thread.id,\n",
        "        message_id=step.step_details.message_creation.message_id\n",
        "    )\n",
        "\n",
        "# print(message.content[0].text.value)\n",
        "# comentado acim apara quando a geração do output é grafico e não texto(conforme a pergunta)"
      ]
    },
    {
      "cell_type": "code",
      "execution_count": 326,
      "metadata": {},
      "outputs": [
        {
          "name": "stdout",
          "output_type": "stream",
          "text": [
            "Aqui estão 15 perguntas de conversação avançada em inglês, evitando repetições das questões já contidas no arquivo:\n",
            "\n",
            "- How do you believe social movements impact legislation and public policy in a democratic society?\n",
            "- In what ways does culture shape individual behaviors and societal expectations?\n",
            "- What are the long-term psychological impacts of social media on adolescents?\n",
            "- How do you think the concept of beauty varies across different cultures?\n",
            "- In what ways can art serve as a catalyst for social change?\n",
            "- How do you perceive the relationship between mental health and physical wellness?\n",
            "- What role does community play in personal development and identity formation?\n",
            "- How can international cooperation address global issues such as climate change and poverty?\n",
            "- What philosophical questions arise when considering the ethics of artificial intelligence?\n",
            "- How can storytelling in various forms (literature, film, etc.) facilitate empathy in different cultures?\n",
            "- In what ways does language influence one's perception of reality and thought processes?\n",
            "- How might future technological advancements redefine the traditional notions of work and employment?\n",
            "- What is the significance of rituals and traditions in fostering a sense of belonging?\n",
            "- How do different societies view the concept of aging and its associated challenges?\n",
            "- What impact does consumer culture have on individual self-esteem and societal values?\n",
            "\n",
            "Essas perguntas cobrem uma variedade de temas e devem encorajar discussões profundas e reflexivas.\n"
          ]
        }
      ],
      "source": [
        "\n",
        "#condicional adaptado para quando a pergunta solicita texto ou grafico\n",
        "#Função: Verifica se a resposta é texto ou imagem. Se for imagem, salva localmente.\n",
        "if message.content[0].type == \"text\":\n",
        "    print(message.content[0].text.value)\n",
        "if message.content[0].type == \"image_file\":\n",
        "    file_id = message.content[0].image_file.file_id\n",
        "    image_data = client.files.content(file_id)\n",
        "    with open(f\"files/{file.id}.png\", \"wb\") as f:\n",
        "        f.write(image_data.read())\n",
        "    print(f\"Imagem {file_id} salva\")\n"
      ]
    },
    {
      "cell_type": "code",
      "execution_count": null,
      "metadata": {},
      "outputs": [],
      "source": []
    },
    {
      "cell_type": "code",
      "execution_count": null,
      "metadata": {},
      "outputs": [],
      "source": [
        "#Aula 73\n",
        "#Aula 74 FQA utilizando LLM\n"
      ]
    },
    {
      "cell_type": "code",
      "execution_count": null,
      "metadata": {},
      "outputs": [],
      "source": [
        "model_qa = pipeline(\"question-answering\", model=\"deepset/roberta-base-squad2\")"
      ]
    },
    {
      "cell_type": "code",
      "execution_count": null,
      "metadata": {},
      "outputs": [],
      "source": [
        "context = \"\"\"Sarah decided to spend her Satyrday afternoon at the local farmers markets, where she enjoyed\n",
        "             sampling fresh produce and handmade crafts \"\"\"\n",
        "\n",
        "question = \"What activity did Sarah choose for her Saturday Afternoon?\""
      ]
    },
    {
      "cell_type": "code",
      "execution_count": null,
      "metadata": {},
      "outputs": [],
      "source": [
        "model_qa(question=question, context=context) "
      ]
    },
    {
      "cell_type": "code",
      "execution_count": null,
      "metadata": {},
      "outputs": [],
      "source": [
        "context2 = \"\"\"\n",
        "After weeks of planing, the team finally launched their new mobile app, which aims to help users track their fitness goals and connect with personal trainers\n",
        "\"\"\"\n",
        "\n",
        "question2 = \"What is the main purpose of the mobile app that the team launched?\"\n"
      ]
    },
    {
      "cell_type": "code",
      "execution_count": null,
      "metadata": {},
      "outputs": [],
      "source": [
        "model_qa(question=question2, context=context2) "
      ]
    },
    {
      "cell_type": "code",
      "execution_count": null,
      "metadata": {},
      "outputs": [],
      "source": [
        "df_questions = pd.read_csv(\"dados/games_faq.csv\")\n",
        "df_questions"
      ]
    },
    {
      "cell_type": "code",
      "execution_count": null,
      "metadata": {},
      "outputs": [],
      "source": [
        "#retorna o conteudo da coluna question\n",
        "def questions_answers(question):\n",
        "    context=df_questions[df_questions[\"question\"]==question]\n",
        "    #para retornar o 1° indice da resposta que esta dentro do arquivo\n",
        "    return context[\"answer\"].values[0]\n",
        "    #para retornar a resposta com base no modelo e nao em um arquivo estatico(caracteristicas de chat bot)\n",
        "    result=model_qa(question=question, context=context(\"answer\").values[0])\n",
        "    return result[\"answer\"]"
      ]
    },
    {
      "cell_type": "code",
      "execution_count": null,
      "metadata": {},
      "outputs": [],
      "source": [
        "#pegar a pergunta com base no arquivo games_faq\n",
        "questions_answers(\"How do I access game settings or options?\")"
      ]
    },
    {
      "cell_type": "code",
      "execution_count": null,
      "metadata": {},
      "outputs": [],
      "source": [
        "#exibir as perguntas e respostas através de uma intefacre grafica(gradio)\n",
        "\n",
        "app = gd.Interface(\n",
        "    fn=question_anwswer,\n",
        "    inputs=gd.Dropdown(choices=list(df_questions[\"question\"]), label=\"Selecione a Pergunta\"),\n",
        "    outputs=\"text\",\n",
        "    title=\"FAQ Games\",\n",
        "    description=\"Selecione uma pergunta do FAQ\"\n",
        ")\n"
      ]
    },
    {
      "cell_type": "code",
      "execution_count": null,
      "metadata": {},
      "outputs": [],
      "source": [
        "#Executar aa aplicação e passara um endereço de IP para abrirmos a pagina.\n",
        "#Aula 75.\n",
        "# O que posso fazer é incorporar esse codigo ao meu projeto de pergunta em ingles, onde, após\n",
        "#a execução e geração de novas perguntas que sera incorporado ao final do arquivo, essa sera exibida no\n",
        "#aplicativo\n",
        "app.launch(share=True)"
      ]
    }
  ],
  "metadata": {
    "kernelspec": {
      "display_name": ".venv",
      "language": "python",
      "name": "python3"
    },
    "language_info": {
      "codemirror_mode": {
        "name": "ipython",
        "version": 3
      },
      "file_extension": ".py",
      "mimetype": "text/x-python",
      "name": "python",
      "nbconvert_exporter": "python",
      "pygments_lexer": "ipython3",
      "version": "3.12.1"
    }
  },
  "nbformat": 4,
  "nbformat_minor": 2
}
