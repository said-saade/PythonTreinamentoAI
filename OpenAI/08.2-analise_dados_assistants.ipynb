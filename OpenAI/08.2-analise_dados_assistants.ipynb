{
  "cells": [
    {
      "cell_type": "code",
      "execution_count": 1,
      "metadata": {},
      "outputs": [
        {
          "name": "stderr",
          "output_type": "stream",
          "text": [
            "c:\\Users\\said-\\OneDrive\\Área de Trabalho\\Python\\PythonTreinamentoAI\\OpenAI\\.venv\\Lib\\site-packages\\tqdm\\auto.py:21: TqdmWarning: IProgress not found. Please update jupyter and ipywidgets. See https://ipywidgets.readthedocs.io/en/stable/user_install.html\n",
            "  from .autonotebook import tqdm as notebook_tqdm\n",
            "None of PyTorch, TensorFlow >= 2.0, or Flax have been found. Models won't be available and only tokenizers, configuration and file/data utilities can be used.\n",
            "None of PyTorch, TensorFlow >= 2.0, or Flax have been found. Models won't be available and only tokenizers, configuration and file/data utilities can be used.\n"
          ]
        }
      ],
      "source": [
        "##\n",
        "\"\"\"Já nos Assistants trabalhando com threads, o que garante o armazenado do histórico \n",
        "dentro da OPENAi ou o modelo que esta sendo utilizado. \n",
        "Voce não precisa submeter o histórico da conversa a todo momento.\"\"\"\n",
        "import openai\n",
        "import time\n",
        "import pandas as pd\n",
        "from transformers import pipeline\n",
        "import gradio as gd"
      ]
    },
    {
      "cell_type": "code",
      "execution_count": 2,
      "metadata": {},
      "outputs": [],
      "source": [
        "client = openai.Client()"
      ]
    },
    {
      "cell_type": "markdown",
      "metadata": {},
      "source": [
        "Realiza o upload de um arquivo para carregar informações ao modelo"
      ]
    },
    {
      "cell_type": "code",
      "execution_count": 3,
      "metadata": {},
      "outputs": [],
      "source": [
        "file = client.files.create(\n",
        "    file=open(\"data_upload.txt\", \"rb\"),\n",
        "    purpose=\"assistants\"\n",
        ")"
      ]
    },
    {
      "cell_type": "markdown",
      "metadata": {},
      "source": [
        "Cria o assistente para acessar o arquivo"
      ]
    },
    {
      "cell_type": "code",
      "execution_count": 4,
      "metadata": {},
      "outputs": [],
      "source": [
        "\n",
        "assistant = client.beta.assistants.create(\n",
        "    name=\"Analista de Dados\",\n",
        "    instructions=\"Você é um analista que analisa dados sobre vendas.\",\n",
        "    tools=[{\"type\":\"code_interpreter\"}],\n",
        "    tool_resources={\"code_interpreter\":{\"file_ids\":[file.id]}},\n",
        "    model=\"gpt-4o-mini\"\n",
        ")\n"
      ]
    },
    {
      "cell_type": "markdown",
      "metadata": {},
      "source": [
        "Função: Cria uma thread de conversa e envia a pergunta como mensagem."
      ]
    },
    {
      "cell_type": "code",
      "execution_count": 5,
      "metadata": {},
      "outputs": [
        {
          "name": "stderr",
          "output_type": "stream",
          "text": [
            "C:\\Users\\said-\\AppData\\Local\\Temp\\ipykernel_23564\\1663272287.py:22: DeprecationWarning: The Assistants API is deprecated in favor of the Responses API\n",
            "  thread = client.beta.threads.create()\n",
            "C:\\Users\\said-\\AppData\\Local\\Temp\\ipykernel_23564\\1663272287.py:23: DeprecationWarning: The Assistants API is deprecated in favor of the Responses API\n",
            "  message = client.beta.threads.messages.create(\n"
          ]
        }
      ],
      "source": [
        "#pergunta = \"Qual o rating médio das vendas do supermercado\"\n",
        "#pergunta = \"Gere um grafico de vendas por linha de produtos\"\n",
        "pergunta = \"\"\"Act as an expert in advanced English conversation design. Your task is to generate a list of exactly 15 distinct and complex factual \n",
        "    questions intended for advanced English speakers.\n",
        "\n",
        "**Constraints:**\n",
        "1.  **Quantity:** Generate precisely 15 questions.\n",
        "2.  **Difficulty:** Questions must be suitable for advanced conversational practice (C1/C2 level) requiring daily basis talks.\n",
        "3.  **Thematic Exclusion:** Strictly avoid the following common themes: Artificial Intelligence (AI) Health Wellness Personal Lifestyle and general well-being.\n",
        "4.  **Thematic Focus:** Focus exclusively on day by day subjects Examples include: \n",
        "\"Como Novak Dkokovic derrotou Roger Federer em Winblendon?\", \"Por que o povo Americano votou em Donald Trump?\"\n",
        "5.  **Uniqueness:** Ensure that each of the 15 questions addresses a completely unique subtopic and theme to prevent repetition.\n",
        "6.  **Contextual Exclusion:** Absolutely do NOT use any information themes or content derived from the document currently being processed or read by the program.\n",
        "7.  **Formatting:** The final output must be a single block of text where each question is separated only by a line break and **contains no commas** within the question text itself.\n",
        "\n",
        "**Output Format:** 15 questions in a list format with no commas but include que question marks at the end of the questions. The\n",
        "   Questions must be in English. Don't enumerate the questions.\"\n",
        "\"\"\"\n",
        "\n",
        "\n",
        "# Criação da Thread\n",
        "thread = client.beta.threads.create()\n",
        "message = client.beta.threads.messages.create(\n",
        "    thread_id=thread.id,\n",
        "    role=\"user\",\n",
        "    content=pergunta)"
      ]
    },
    {
      "cell_type": "code",
      "execution_count": 13,
      "metadata": {},
      "outputs": [
        {
          "name": "stderr",
          "output_type": "stream",
          "text": [
            "C:\\Users\\said-\\AppData\\Local\\Temp\\ipykernel_23564\\234429889.py:2: DeprecationWarning: The Assistants API is deprecated in favor of the Responses API\n",
            "  run = client.beta.threads.runs.create(\n"
          ]
        }
      ],
      "source": [
        "#Executa a thread\n",
        "run = client.beta.threads.runs.create(\n",
        "    thread_id=thread.id,\n",
        "    assistant_id=assistant.id,\n",
        "    instructions=\"Nome de usuário premium\"\n",
        ")"
      ]
    },
    {
      "cell_type": "code",
      "execution_count": 14,
      "metadata": {},
      "outputs": [
        {
          "name": "stderr",
          "output_type": "stream",
          "text": [
            "C:\\Users\\said-\\AppData\\Local\\Temp\\ipykernel_23564\\2396637559.py:4: DeprecationWarning: The Assistants API is deprecated in favor of the Responses API\n",
            "  run = client.beta.threads.runs.retrieve(\n"
          ]
        },
        {
          "name": "stdout",
          "output_type": "stream",
          "text": [
            "in_progress\n",
            "in_progress\n",
            "in_progress\n",
            "in_progress\n",
            "completed\n"
          ]
        }
      ],
      "source": [
        "# Aguarda a thread rodar\n",
        "while run.status in [\"queued\", \"in_progress\", \"cancelling\"]:\n",
        "    time.sleep(1)\n",
        "    run = client.beta.threads.runs.retrieve(\n",
        "        thread_id=thread.id,\n",
        "        run_id=run.id\n",
        "        \n",
        "    )\n",
        "    print(run.status)"
      ]
    },
    {
      "cell_type": "code",
      "execution_count": 15,
      "metadata": {},
      "outputs": [
        {
          "name": "stderr",
          "output_type": "stream",
          "text": [
            "C:\\Users\\said-\\AppData\\Local\\Temp\\ipykernel_23564\\2801299003.py:3: DeprecationWarning: The Assistants API is deprecated in favor of the Responses API\n",
            "  mensagens = client.beta.threads.messages.list(\n"
          ]
        },
        {
          "name": "stdout",
          "output_type": "stream",
          "text": [
            "What strategies did the British government employ to navigate the economic challenges of Brexit?  \n",
            "How has the increasing popularity of plant-based diets influenced traditional agricultural practices?  \n",
            "In what ways has social media reshaped the landscape of political campaigning in modern democracies?  \n",
            "What factors contributed to the rise of street art as a recognized form of artistic expression?  \n",
            "How did the events of the Cold War shape contemporary international relations between superpowers?  \n",
            "What role does cultural heritage play in shaping national identity in post-colonial societies?  \n",
            "How have global trade agreements impacted local economies in developing nations?  \n",
            "What motivations drive urban populations to participate in sustainability initiatives?  \n",
            "In what ways has the portrayal of historical events in cinema influenced public perception?  \n",
            "How do cultural festivals contribute to community cohesion and local economies?  \n",
            "What challenges arise from the global refugee crisis and its impact on host countries?  \n",
            "How does the integration of technology in education transform the role of teachers in the classroom?  \n",
            "What historical events prompted significant changes in global environmental policy?  \n",
            "How have contemporary art movements responded to issues of social justice and equity?  \n",
            "What implications does the rise of e-commerce have on traditional retail businesses?\n"
          ]
        }
      ],
      "source": [
        "# Verifica a resposta quando tivermos a resposta da thread\n",
        "if run.status == \"completed\":\n",
        "    mensagens = client.beta.threads.messages.list(\n",
        "        thread_id=thread.id\n",
        "    )    \n",
        "    print(mensagens.data[0].content[0].text.value)\n",
        "else:\n",
        "    print(f\"Erro {run.status}\")"
      ]
    },
    {
      "cell_type": "code",
      "execution_count": 16,
      "metadata": {},
      "outputs": [
        {
          "name": "stdout",
          "output_type": "stream",
          "text": [
            "What strategies did the British government employ to navigate the economic challenges of Brexit?\n",
            "How has the increasing popularity of plant-based diets influenced traditional agricultural practices?\n",
            "In what ways has social media reshaped the landscape of political campaigning in modern democracies?\n",
            "What factors contributed to the rise of street art as a recognized form of artistic expression?\n",
            "How did the events of the Cold War shape contemporary international relations between superpowers?\n",
            "What role does cultural heritage play in shaping national identity in post-colonial societies?\n",
            "How have global trade agreements impacted local economies in developing nations?\n",
            "What motivations drive urban populations to participate in sustainability initiatives?\n",
            "In what ways has the portrayal of historical events in cinema influenced public perception?\n",
            "How do cultural festivals contribute to community cohesion and local economies?\n",
            "What challenges arise from the global refugee crisis and its impact on host countries?\n",
            "How does the integration of technology in education transform the role of teachers in the classroom?\n",
            "What historical events prompted significant changes in global environmental policy?\n",
            "How have contemporary art movements responded to issues of social justice and equity?\n",
            "What implications does the rise of e-commerce have on traditional retail businesses?\n"
          ]
        }
      ],
      "source": [
        "# Extrai o texto da resposta/texto\n",
        "texto_resposta = mensagens.data[0].content[0].text.value\n",
        "\n",
        "# Extrai perguntas (linhas que começam com \"-\")\n",
        "perguntas = [linha.strip(\"-\").strip() for linha in texto_resposta.splitlines() if linha.strip().startswith(\"\")]\n",
        "# Grava perguntas novas no final do arquivo\n",
        "if perguntas:\n",
        "    with open(\"data_upload.txt\", \"a\", encoding=\"utf-8\") as f:\n",
        "        for pergunta in perguntas:\n",
        "            print(pergunta)\n",
        "            f.write(pergunta + \"\\n\")\n",
        "\n"
      ]
    },
    {
      "cell_type": "code",
      "execution_count": 17,
      "metadata": {},
      "outputs": [],
      "source": [
        "# por hora esse print ficara commitado porque ja esta sendo considerado\n",
        "# mais abaixo\n",
        "# print(mensagens.data[0].content[0].text.value)"
      ]
    },
    {
      "cell_type": "code",
      "execution_count": 18,
      "metadata": {},
      "outputs": [
        {
          "name": "stderr",
          "output_type": "stream",
          "text": [
            "C:\\Users\\said-\\AppData\\Local\\Temp\\ipykernel_23564\\3650132559.py:2: DeprecationWarning: The Assistants API is deprecated in favor of the Responses API\n",
            "  run_steps = client.beta.threads.runs.steps.list(\n"
          ]
        }
      ],
      "source": [
        "#analisando a logica/passos do modelo para chegar na resposta\n",
        "run_steps = client.beta.threads.runs.steps.list(\n",
        "    thread_id=thread.id,\n",
        "    run_id=run.id\n",
        ")"
      ]
    },
    {
      "cell_type": "code",
      "execution_count": 19,
      "metadata": {},
      "outputs": [
        {
          "name": "stdout",
          "output_type": "stream",
          "text": [
            "\n",
            "===Step message_creation\n"
          ]
        },
        {
          "name": "stderr",
          "output_type": "stream",
          "text": [
            "C:\\Users\\said-\\AppData\\Local\\Temp\\ipykernel_23564\\1145170754.py:9: DeprecationWarning: The Assistants API is deprecated in favor of the Responses API\n",
            "  message = client.beta.threads.messages.retrieve(\n"
          ]
        }
      ],
      "source": [
        "for step in run_steps.data[::-1]:\n",
        "    print(f\"\\n===Step {step.step_details.type}\")\n",
        "    if step.step_details.type == \"tool_calls\":\n",
        "        for tool_call in step.step_details.tool_calls:\n",
        "            print(\"-\" * 10)\n",
        "            print(tool_call.code_interpreter.input)\n",
        "            print(\"-\" * 10)\n",
        "    if step.step_details.type == \"message_creation\":\n",
        "        message = client.beta.threads.messages.retrieve(\n",
        "        thread_id=thread.id,\n",
        "        message_id=step.step_details.message_creation.message_id\n",
        "    )\n",
        "\n",
        "# print(message.content[0].text.value)\n",
        "# comentado acim apara quando a geração do output é grafico e não texto(conforme a pergunta)"
      ]
    },
    {
      "cell_type": "code",
      "execution_count": 20,
      "metadata": {},
      "outputs": [
        {
          "name": "stdout",
          "output_type": "stream",
          "text": [
            "What strategies did the British government employ to navigate the economic challenges of Brexit?  \n",
            "How has the increasing popularity of plant-based diets influenced traditional agricultural practices?  \n",
            "In what ways has social media reshaped the landscape of political campaigning in modern democracies?  \n",
            "What factors contributed to the rise of street art as a recognized form of artistic expression?  \n",
            "How did the events of the Cold War shape contemporary international relations between superpowers?  \n",
            "What role does cultural heritage play in shaping national identity in post-colonial societies?  \n",
            "How have global trade agreements impacted local economies in developing nations?  \n",
            "What motivations drive urban populations to participate in sustainability initiatives?  \n",
            "In what ways has the portrayal of historical events in cinema influenced public perception?  \n",
            "How do cultural festivals contribute to community cohesion and local economies?  \n",
            "What challenges arise from the global refugee crisis and its impact on host countries?  \n",
            "How does the integration of technology in education transform the role of teachers in the classroom?  \n",
            "What historical events prompted significant changes in global environmental policy?  \n",
            "How have contemporary art movements responded to issues of social justice and equity?  \n",
            "What implications does the rise of e-commerce have on traditional retail businesses?\n"
          ]
        }
      ],
      "source": [
        "\n",
        "#condicional adaptado para quando a pergunta solicita texto ou grafico\n",
        "#Função: Verifica se a resposta é texto ou imagem. Se for imagem, salva localmente.\n",
        "if message.content[0].type == \"text\":\n",
        "    print(message.content[0].text.value)\n",
        "if message.content[0].type == \"image_file\":\n",
        "    file_id = message.content[0].image_file.file_id\n",
        "    image_data = client.files.content(file_id)\n",
        "    with open(f\"files/{file.id}.png\", \"wb\") as f:\n",
        "        f.write(image_data.read())\n",
        "    print(f\"Imagem {file_id} salva\")\n"
      ]
    },
    {
      "cell_type": "code",
      "execution_count": null,
      "metadata": {},
      "outputs": [],
      "source": []
    },
    {
      "cell_type": "code",
      "execution_count": 21,
      "metadata": {},
      "outputs": [],
      "source": [
        "#Aula 73\n",
        "#Aula 74 FQA utilizando LLM\n"
      ]
    },
    {
      "cell_type": "code",
      "execution_count": 22,
      "metadata": {},
      "outputs": [],
      "source": [
        "df_questions = pd.read_csv(\"data_upload.txt\")\n",
        "#df_questions\n"
      ]
    },
    {
      "cell_type": "code",
      "execution_count": 23,
      "metadata": {},
      "outputs": [],
      "source": [
        "def question_answer(question):\n",
        "    context=df_questions.tail(15)[df_questions[\"question\"]==question]\n",
        "    #para retornar o 1° indice da resposta que esta dentro do arquivo\n",
        "    return context[\"question\"].values[0]\n",
        "    #para retornar a resposta com base no modelo e nao em um arquivo estatico(caracteristicas de chat bot)\n",
        "    result=model_qa(question=question, context=context(\"question\").values[0])\n",
        "    return result[\"question\"]"
      ]
    },
    {
      "cell_type": "code",
      "execution_count": 24,
      "metadata": {},
      "outputs": [],
      "source": [
        "def question_answer_static(question):\n",
        "        \n",
        "    # 1. Filtra o DataFrame para encontrar a linha correspondente à pergunta\n",
        "    context = df_questions[df_questions[\"question\"] == question]\n",
        "    # Usando 'answer' como exemplo:\n",
        "    resposta = context[\"question\"].values[0] \n",
        "    return resposta\n"
      ]
    },
    {
      "cell_type": "code",
      "execution_count": 25,
      "metadata": {},
      "outputs": [],
      "source": [
        "app = gd.Interface(\n",
        "    fn=question_answer_static,\n",
        "#   inputs=gd.DataFrame(choices=list(df_questions.tail(15)[\"question\"]), label=\"Selecione a Pergunta\"),\n",
        "    inputs=gd.Dataframe(\n",
        "        value=df_questions.tail(15)[[\"question\"]], \n",
        "        headers=[\"Perguntas\"], \n",
        "        label=\"Selecione a Pergunta\",\n",
        "        interactive=True),\n",
        "    outputs=None,\n",
        "    title=\"Choose the Question\",\n",
        "    description=None\n",
        ")\n"
      ]
    },
    {
      "cell_type": "code",
      "execution_count": 26,
      "metadata": {},
      "outputs": [
        {
          "name": "stdout",
          "output_type": "stream",
          "text": [
            "* Running on local URL:  http://127.0.0.1:7860\n",
            "* Running on public URL: https://2cfc9d8848fb4c114b.gradio.live\n",
            "\n",
            "This share link expires in 1 week. For free permanent hosting and GPU upgrades, run `gradio deploy` from the terminal in the working directory to deploy to Hugging Face Spaces (https://huggingface.co/spaces)\n"
          ]
        },
        {
          "data": {
            "text/html": [
              "<div><iframe src=\"https://2cfc9d8848fb4c114b.gradio.live\" width=\"100%\" height=\"500\" allow=\"autoplay; camera; microphone; clipboard-read; clipboard-write;\" frameborder=\"0\" allowfullscreen></iframe></div>"
            ],
            "text/plain": [
              "<IPython.core.display.HTML object>"
            ]
          },
          "metadata": {},
          "output_type": "display_data"
        },
        {
          "data": {
            "text/plain": []
          },
          "execution_count": 26,
          "metadata": {},
          "output_type": "execute_result"
        }
      ],
      "source": [
        "#Executar aa aplicação e passara um endereço de IP para abrirmos a pagina.\n",
        "#Aula 75.\n",
        "# O que posso fazer é incorporar esse codigo ao meu projeto de pergunta em ingles, onde, após\n",
        "#a execução e geração de novas perguntas que sera incorporado ao final do arquivo, essa sera exibida no\n",
        "#aplicativo\n",
        "app.launch(share=True)"
      ]
    }
  ],
  "metadata": {
    "kernelspec": {
      "display_name": ".venv",
      "language": "python",
      "name": "python3"
    },
    "language_info": {
      "codemirror_mode": {
        "name": "ipython",
        "version": 3
      },
      "file_extension": ".py",
      "mimetype": "text/x-python",
      "name": "python",
      "nbconvert_exporter": "python",
      "pygments_lexer": "ipython3",
      "version": "3.13.7"
    }
  },
  "nbformat": 4,
  "nbformat_minor": 2
}
