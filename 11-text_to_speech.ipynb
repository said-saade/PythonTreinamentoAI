{
 "cells": [
  {
   "cell_type": "code",
   "execution_count": null,
   "metadata": {},
   "outputs": [],
   "source": [
    "## Prompt intepretara o texto abaixo e gerara um audio para ser vocalizado\n",
    "## Aula 55 Transcrição de Voz\n",
    "import opena"
   ]
  },
  {
   "cell_type": "code",
   "execution_count": null,
   "metadata": {},
   "outputs": [],
   "source": [
    "client = openai.Client()"
   ]
  },
  {
   "cell_type": "code",
   "execution_count": null,
   "metadata": {},
   "outputs": [],
   "source": [
    "texto = \"\"\"\n",
    "Python é uma linguagem de programação popular e de fácil aprendizado, conhecida por sua sintaxe simples e legível. Ela é amplamente utilizada em diversas áreas, como desenvolvimento web, automação, análise de dados, inteligência artificial e ciência de dados. Uma das principais características do Python é sua versatilidade, permitindo que seja usado para projetos pequenos e grandes. Além disso, Python possui uma grande comunidade de desenvolvedores e uma vasta quantidade de bibliotecas que facilitam o trabalho, como pandas, NumPy e Django. A linguagem também é excelente para iniciantes, pois permite escrever código de forma clara e direta. Com uma ampla gama de tutoriais e recursos disponíveis, aprender Python pode ser uma excelente escolha para quem deseja começar na programação.\n",
    "\"\"\""
   ]
  },
  {
   "cell_type": "code",
   "execution_count": null,
   "metadata": {},
   "outputs": [],
   "source": [
    "## voice = estilo de voz. Dentro do OPEN AI voce consegue ver as opções de voz\n",
    "resposta = client.audio.speech.create(\n",
    "    model=\"tts-1\",\n",
    "    voice=\"alloy\",\n",
    "    input=texto\n",
    ")\n"
   ]
  },
  {
   "cell_type": "markdown",
   "metadata": {},
   "source": [
    "Converter audio para texto"
   ]
  },
  {
   "cell_type": "code",
   "execution_count": null,
   "metadata": {},
   "outputs": [],
   "source": [
    "audio = open(\"files/curso.mp3\", \"rb\")\n",
    "transcricao = client.audio.transcriptions.create(\n",
    "    model=\"whisper-1\",\n",
    "    file=audio\n",
    ")"
   ]
  },
  {
   "cell_type": "code",
   "execution_count": null,
   "metadata": {},
   "outputs": [],
   "source": [
    "print(transcricao.text)"
   ]
  },
  {
   "cell_type": "code",
   "execution_count": null,
   "metadata": {},
   "outputs": [],
   "source": [
    "arquivo = \"files/voz.mp3\"\n",
    "resposta.write_to_file(arquivo)"
   ]
  }
 ],
 "metadata": {
  "language_info": {
   "name": "python"
  }
 },
 "nbformat": 4,
 "nbformat_minor": 2
}
