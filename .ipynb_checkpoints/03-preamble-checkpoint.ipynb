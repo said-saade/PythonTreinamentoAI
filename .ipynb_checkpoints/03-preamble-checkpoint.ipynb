{
 "cells": [
  {
   "cell_type": "markdown",
   "id": "c97268e2",
   "metadata": {},
   "source": [
    " ### O que é o preamble?\n",
    "- O **preamble** no GPT-5 é uma camada extra de instruções sobre *como a resposta deve começar ou ser estruturada*.\n",
    "- Ele não altera o conteúdo principal, mas molda o **tom e a forma** da resposta."
   ]
  },
  {
   "cell_type": "markdown",
   "id": "810ad9a6",
   "metadata": {},
   "source": [
    "### Para que serve:\n",
    "1. Definir um estilo inicial fixo (ex.: saudação).\n",
    "2. Forçar uma estrutura lógica antes da resposta.\n",
    "3. Padronizar o fluxo em sistemas com múltiplas chamadas (agents, pipelines).\n",
    "4. Garantir consistência na experiência do usuário."
   ]
  },
  {
   "cell_type": "markdown",
   "id": "e12810b2",
   "metadata": {},
   "source": [
    "### Diferença em relação ao prompt:\n",
    "- **Prompt normal** → controla o *conteúdo*.\n",
    "- **Preamble** → controla o *formato inicial* e o *tom* da resposta."
   ]
  },
  {
   "cell_type": "code",
   "execution_count": 2,
   "id": "0712e8be",
   "metadata": {},
   "outputs": [],
   "source": [
    "import os\n",
    "from openai import OpenAI\n",
    "from dotenv import load_dotenv\n",
    "\n",
    "# Carregar variáveis de ambiente\n",
    "load_dotenv()\n",
    "client = OpenAI(api_key=os.getenv(\"OPENAI_API_KEY\"))"
   ]
  },
  {
   "cell_type": "code",
   "execution_count": 1,
   "id": "e4cd3ffe",
   "metadata": {},
   "outputs": [],
   "source": [
    "user_task = \"Monte um roteiro de 2 dias em Lisboa, focado em atrações principais.\""
   ]
  },
  {
   "cell_type": "markdown",
   "id": "cf737c56",
   "metadata": {},
   "source": [
    "### 1. Preamble Básico\n",
    "- Apenas adiciona uma saudação amigável antes da resposta"
   ]
  },
  {
   "cell_type": "code",
   "execution_count": 3,
   "id": "a758d9d4",
   "metadata": {},
   "outputs": [
    {
     "name": "stdout",
     "output_type": "stream",
     "text": [
      "\n",
      "--- Preamble Básico ---\n",
      "Olá! Que bom que você escolheu Lisboa — é uma cidade incrível para explorar em dois dias. Segue um roteiro enxuto, mas completo, com as principais atrações.\n",
      "\n",
      "Dia 1 – Belém + Centro de Lisboa (Baixa/Chiado)\n",
      "- Manhã\n",
      "  - Jerónimos Monastery (Mosteiro dos Jerónimos): 9:30–11:00\n",
      "  - Torre de Belém e Monumento dos Descobrimentos: 11:15–12:15\n",
      "  - Dica: reserve ingressos com antecedência para evitar fila.\n",
      "- Almoço em Belém\n",
      "  - Pastéis de Belém para experimentar o famoso pastel de nata; opção de almoço leve na região.\n",
      "- Tarde\n",
      "  - MAAT (Museu de Arte, Arquitetura e Tecnologia) ou escolher entre Castelo de Belém/Campo de It's (opção que rende menos tempo).\n",
      "  - Deslocamento para o centro de Lisboa (baixa) de metrô/bonde.\n",
      "  - Praça do Comércio: caminhada pela Baixa.\n",
      "  - Arco da Rua Augusta e Elevador de Santa Justa (opcional: subir ao topo para uma vista da Baixa e do Chiado).\n",
      "  - Convento do Carmo e Miradouros de Lisboa (Sugestão: Miradouro de São Pedro de Alcântara para o pôr do sol).\n",
      "- Noite\n",
      "  - Bairro Alto para jantar. Se curtir, inclua um show de fado (há várias casas de fado na área).\n",
      "\n",
      "Dia 2 – Alfama, Castelo e Miradouros\n",
      "- Manhã\n",
      "  - Castelo de São Jorge (casca de 1h30 a 2h): vistas para a cidade, ruínas do castelo.\n",
      "  - Sé de Lisboa (Catedral) e passeio pelas ruelas de Alfama.\n",
      "- Almoço em Alfama\n",
      "  - Peça sugestões locais para provar a comida típica portuguesa.\n",
      "- Tarde\n",
      "  - Miradouros de Alfama: Santa Luzia e Portas do Sol (ótimos para fotos e para entender o layout da velha Lisboa).\n",
      "  - Opcional: passeio rápido de elétrico 28 (pouco tempo, pode ser apenas para a experiência).\n",
      "  - Ponte para o Miradouro da Senhora do Monte (grande visão da cidade, especialmente ao pôr do sol).\n",
      "- Noite\n",
      "  - Se quiser fechar o dia com mais modernidade, termine no Time Out Market (Mercado da Ribeira) para provar uma variedade de opções ou volte ao Cais do Sodré para jantar com vista do Tejo.\n",
      "\n",
      "Sugestões rápidas\n",
      "- Transporte: use o cartão de transporte de Lisboa (Viva Viagem) para facilitar trens/metro/tram. Muitos pontos turísticos são caminháveis, porém algumas distâncias entre Belém e o centro são longas a pé.\n",
      "- Compras de ingressos: comprar online com antecedência reduz filas (Jerónimos, Torre, Castelo).\n",
      "- Calçados: Lisboa tem ruas de calçada em alguns bairros; leve sapatos confortáveis.\n",
      "- Clima: leve casaco leve para noites, mesmo no verão; primavera/outono podem ter vento na orla do Tejo.\n",
      "- Alimentação: vale experimentar a bacalhau à brás, sardinhas assadas e as ricas sobremesas portuguesas. O Time Out Market oferece várias opções em um único lugar.\n",
      "\n",
      "Se quiser, eu adapto o roteiro para o seu ritmo (mais rápido, mais tranquilo) ou sugiro horários exatos conforme a data da viagem e seus pontos de interesse preferidos (fado, miradouros específicos, ou incluir o Oceanário/Parque das Nações). Quer que eu te entregue em formato de checklist com horários fixos?\n"
     ]
    }
   ],
   "source": [
    "preamble_basic = \"\"\"\n",
    "<tool_preambles>\n",
    "- Sempre inicie sua resposta com uma saudação calorosa e amigável ao usuário.\n",
    "</tool_preambles>\n",
    "\"\"\"\n",
    "\n",
    "resp_basic = client.responses.create(\n",
    "    model=\"gpt-5-nano\",\n",
    "    input=[\n",
    "        { \"role\": \"developer\", \"content\": preamble_basic },\n",
    "        { \"role\": \"user\", \"content\": user_task }\n",
    "    ]\n",
    ")\n",
    "\n",
    "print(\"\\n--- Preamble Básico ---\")\n",
    "print(resp_basic.output_text)"
   ]
  },
  {
   "cell_type": "markdown",
   "id": "00ea2c3b",
   "metadata": {},
   "source": [
    "### 2. Preamble Intermediário\n",
    "- Inclui saudação + breve contextualização antes da resposta."
   ]
  },
  {
   "cell_type": "code",
   "execution_count": 4,
   "id": "cf18058a",
   "metadata": {},
   "outputs": [
    {
     "name": "stdout",
     "output_type": "stream",
     "text": [
      "\n",
      "--- Preamble Intermediário ---\n",
      "Olá — tudo bem? Você pediu um roteiro de 2 dias em Lisboa focado nas atrações principais; abaixo vai uma sugestão prática com horários, deslocamentos e dicas.\n",
      "\n",
      "Dia 1 — Belém + Baixa / Chiado / Bairro Alto\n",
      "- 09:00 — Chegada a Belém\n",
      "  - Mosteiro dos Jerónimos (1–1h30). Compre bilhete online para evitar fila.\n",
      "  - Pastéis de Belém (pequena paragem para provar).\n",
      "- 11:30 — Torre de Belém e Padrão dos Descobrimentos (45–60 min no total).\n",
      "  - Opcional: MAAT (museu de arte/arquitetura) se gostar de moderna.\n",
      "- 13:00 — Almoço em Cais do Sodré/Time Out Market (variedade e bom para grupos).\n",
      "- 14:30 — Baixa e Chiado\n",
      "  - Praça do Comércio e caminhar pela Rua Augusta (30–45 min).\n",
      "  - Elevador de Santa Justa e Convento do Carmo (45–60 min).\n",
      "  - Passeio pelo Chiado (livraria Bertrand, cafés).\n",
      "- 18:30 — Miradouro e Bairro Alto\n",
      "  - Suba ao Miradouro de São Pedro de Alcântara (pôr do sol) ou Adamastor.\n",
      "  - Jantar no Bairro Alto e, se quiser, casa de fado (reserve com antecedência).\n",
      "- Dicas: transporte Belém — comboio/tram 15 ou táxi. Leve calçado confortável.\n",
      "\n",
      "Dia 2 — Alfama, Castelo, elétrico 28 e LX Factory\n",
      "- 09:00 — Castelo de São Jorge (1,5–2h)\n",
      "  - Chegue cedo para evitar multidões; vistas panorâmicas da cidade.\n",
      "- 11:30 — Alfama\n",
      "  - Sé de Lisboa, ruas estreitas e miradouros (Santa Luzia). Passeie sem pressa (1–1h30).\n",
      "- 13:00 — Almoço em Alfama (petiscos / marisco).\n",
      "- 14:30 — Elétrico 28 (passeio clássico)\n",
      "  - Pegue o 28 em Martim Moniz/Portas do Sol para um trajeto pelas colinas (será cheio; segure seus pertences).\n",
      "  - Alternativa: subir a pé até o Miradouro da Senhora do Monte para outra vista.\n",
      "- 16:30 — LX Factory (arte, lojas, livraria Ler Devagar)\n",
      "  - Bom para café, fotografias e comprar lembranças; fecha mais cedo à noite aos domingos.\n",
      "- 19:30 — Jantar e pôr do sol junto ao rio (Cais do Sodré) ou cruzeiro curto no Tejo (opcional).\n",
      "- Dicas: bilhetes para o Castelo e para museus compre online; tram 28 muito concorrido — comece no início do trajeto para garantir lugar.\n",
      "\n",
      "Opções/Extras se quiser trocar algo\n",
      "- Trocar dia 1 por Sintra (meio-dia a dia inteiro) — exige saída cedo e sacrifica Belém.\n",
      "- Oceanário / Parque das Nações (bom para famílias) se preferir modernidade em vez de LX Factory.\n",
      "- Museu Nacional do Azulejo (opção cultural que fica fora do centro histórico).\n",
      "\n",
      "Informações práticas rápidas\n",
      "- Transporte: metro + elétricos + caminhada; táxis/Uber fáceis. Considerar Lisboa Card só se for visitar muitos museus/monumentos.\n",
      "- Calçado confortável, garrafa de água e reserva de restaurantes/ casas de fado nas noites populares.\n",
      "- Se quiser, eu adapto para preferências (mais museus, turismo gastronômico, ritmo mais lento) ou monto o roteiro com horários exatos no seu mapa. Quer que eu faça isso?\n"
     ]
    }
   ],
   "source": [
    "preamble_intermediate = \"\"\"\n",
    "<tool_preambles>\n",
    "- Inicie com uma saudação calorosa.\n",
    "- Em seguida, reformule brevemente o pedido do usuário para mostrar compreensão.\n",
    "</tool_preambles>\n",
    "\"\"\"\n",
    "\n",
    "resp_intermediate = client.responses.create(\n",
    "    model=\"gpt-5-mini\",\n",
    "    input=[\n",
    "        { \"role\": \"developer\", \"content\": preamble_intermediate },\n",
    "        { \"role\": \"user\", \"content\": user_task }\n",
    "    ]\n",
    ")\n",
    "\n",
    "print(\"\\n--- Preamble Intermediário ---\")\n",
    "print(resp_intermediate.output_text)"
   ]
  },
  {
   "cell_type": "markdown",
   "id": "a5e73c5c",
   "metadata": {},
   "source": [
    "### 3. Preamble Avançado\n",
    "- Saudação + reformulação + explicação do plano de resposta + execução + resumo final."
   ]
  },
  {
   "cell_type": "code",
   "execution_count": 5,
   "id": "28dab172",
   "metadata": {},
   "outputs": [
    {
     "name": "stdout",
     "output_type": "stream",
     "text": [
      "\n",
      "--- Preamble Avançado ---\n",
      "Olá! Que bom planejar sua visita. Entendi que você quer um roteiro de 2 dias em Lisboa, focado nas atrações principais, com uma sequência eficiente e dicas práticas.\n",
      "\n",
      "Plano do que vou fazer:\n",
      "- Selecionar as atrações imperdíveis.\n",
      "- Organizar por áreas para minimizar deslocamentos.\n",
      "- Distribuir por manhã/tarde/noite com horários sugeridos.\n",
      "- Indicar transportes, bilhetes e dicas para evitar filas.\n",
      "- Sugerir opções de refeições e miradouros para pôr do sol.\n",
      "\n",
      "Executando o plano agora: escolhi o Centro Histórico (Alfama, Baixa, Chiado, Bairro Alto) para o Dia 1 e Belém + Parque das Nações para o Dia 2, inserindo miradouros, Fado e o Oceanário. Incluí rotas de bonde/metro e notas de ingressos.\n",
      "\n",
      "Roteiro de 2 dias em Lisboa (atrações principais)\n",
      "\n",
      "Dia 1 – Centro histórico, miradouros e Fado\n",
      "Manhã\n",
      "- 08:30 – Baixa: café e pastel de nata (Manteigaria ou Confeitaria Nacional).\n",
      "- 09:00 – Bonde 28E (embarque cedo em Martim Moniz para evitar lotação) até Graça.\n",
      "- 09:15 – Miradouro da Senhora do Monte; depois desça a pé a:\n",
      "- 10:00 – Sé de Lisboa (Catedral).\n",
      "- 10:30 – Alfama: ruelas, miradouros de Santa Luzia e Portas do Sol.\n",
      "- 11:30 – Castelo de São Jorge (1h–1h30; compre ingresso online).\n",
      "\n",
      "Tarde\n",
      "- 13:00 – Almoço em Alfama (tascas tradicionais) ou na Baixa.\n",
      "- 14:30 – Praça do Comércio e Arco da Rua Augusta (vista rápida do topo).\n",
      "- 15:30 – Convento do Carmo; acesse o miradouro do Elevador de Santa Justa pelo Largo do Carmo (sem fila).\n",
      "- 16:45 – Chiado: Largo do Camões, A Brasileira, Bertrand.\n",
      "\n",
      "Noite\n",
      "- 18:30 – Pôr do sol no Miradouro de São Pedro de Alcântara (ou Adamastor/Santa Catarina).\n",
      "- 20:00 – Jantar com Fado em Alfama ou Bairro Alto (reserve).\n",
      "\n",
      "Transportes do dia\n",
      "- Caminhada + bonde 28E + metro conforme necessário.\n",
      "- Dica: passe 24h Carris/Metro vale os bondes, elevadores e metro (compre nas máquinas do metro; confirme preço atualizado).\n",
      "\n",
      "Dia 2 – Belém, museus e Oceanário\n",
      "Manhã\n",
      "- 08:30 – Siga a Belém: bonde 15E (Cais do Sodré/Pr. da Figueira) ou comboio Linha de Cascais (Cais do Sodré → Belém).\n",
      "- 09:00 – Pastéis de Belém (pegue para viagem se houver fila).\n",
      "- 09:30 – Mosteiro dos Jerónimos e claustro (1h–1h30; ingresso online).\n",
      "- 11:15 – Padrão dos Descobrimentos (subida opcional ao miradouro, 30–40 min).\n",
      "- 12:15 – Torre de Belém (45–60 min; filas grandes — considere apenas exterior se sem tempo).\n",
      "\n",
      "Tarde\n",
      "- 13:30 – Almoço em Belém ou siga à LX Factory (restaurantes e lojas criativas).\n",
      "- 15:00 – MAAT (arquitetura e exposições) ou Museu Nacional dos Coches (coleção única de carruagens). Escolha 1 (1h).\n",
      "- 16:30 – Parque das Nações: metro até Oriente (Linha Vermelha) ou comboio.\n",
      "- 17:00 – Oceanário de Lisboa (1h30–2h; ingresso com hora marcada).\n",
      "- 18:45 – Telecabine (opcional) e passeio à beira do Tejo.\n",
      "- 20:00 – Jantar no Parque das Nações (doca/Expo) ou retorno ao centro.\n",
      "\n",
      "Transportes do dia\n",
      "- Bonde 15E ou comboio para Belém; metro Linha Vermelha para Oriente.\n",
      "- Lisboa Card 48h pode valer a pena: inclui transportes e entradas/ descontos (Jerónimos, Torre, etc.; ver condições atuais).\n",
      "\n",
      "Dicas essenciais\n",
      "- Fechos: segunda-feira costumam fechar Jerónimos, Torre e alguns museus; MAAT fecha à terça. Se for segunda, troque os dias.\n",
      "- Ingressos antecipados: Castelo, Jerónimos e Oceanário — evite filas.\n",
      "- Segurança: atenção a furtos no bonde 28E e áreas turísticas.\n",
      "- Calçado: ruas íngremes e calçada portuguesa (escorrega).\n",
      "- Pôr do sol alternativo: Miradouro da Graça ou Senhora do Monte para vistas amplas.\n",
      "\n",
      "Opções de jantar e Fado\n",
      "- Alfama: Clube de Fado, Mesa de Frades, Parreirinha de Alfama.\n",
      "- Bairro Alto/Chiado: Tasca do Chico, Adega Machado.\n",
      "- Cozinha moderna: Time Out Market (variedade rápida), Cervejaria Ramiro (mariscos), Prado (português contemporâneo).\n",
      "\n",
      "Tempo aproximado e ritmo\n",
      "- Blocos de 60–90 min por grande atração, 15–30 min por miradouro.\n",
      "- Deslocamentos entre zonas: 10–25 min com metro/bonde, similar a pé no centro.\n",
      "\n",
      "Resumo\n",
      "- Dia 1: Centro histórico completo + miradouros + Fado à noite.\n",
      "- Dia 2: Belém de manhã, museu à escolha, Oceanário e rio ao entardecer.\n",
      "Se quiser, ajusto o roteiro ao seu dia da semana, horário de chegada/partida e preferências (museus vs. vistas, ritmo, orçamento e restaurantes).\n"
     ]
    }
   ],
   "source": [
    "preamble_advanced = \"\"\"\n",
    "<tool_preambles>\n",
    "- Cumprimente calorosamente o usuário.\n",
    "- Reformule o objetivo da tarefa de forma clara.\n",
    "- Apresente um plano de etapas que seguirá para responder (ex.: selecionar atrações, organizar por dia, sugerir transportes).\n",
    "- Narre brevemente sua execução do plano.\n",
    "- Finalize com um resumo distinto e amigável.\n",
    "</tool_preambles>\n",
    "\"\"\"\n",
    "\n",
    "resp_advanced = client.responses.create(\n",
    "    model=\"gpt-5\",\n",
    "    input=[\n",
    "        { \"role\": \"developer\", \"content\": preamble_advanced },\n",
    "        { \"role\": \"user\", \"content\": user_task }\n",
    "    ]\n",
    ")\n",
    "\n",
    "print(\"\\n--- Preamble Avançado ---\")\n",
    "print(resp_advanced.output_text)"
   ]
  }
 ],
 "metadata": {
  "kernelspec": {
   "display_name": "Python 3 (ipykernel)",
   "language": "python",
   "name": "python3"
  },
  "language_info": {
   "codemirror_mode": {
    "name": "ipython",
    "version": 3
   },
   "file_extension": ".py",
   "mimetype": "text/x-python",
   "name": "python",
   "nbconvert_exporter": "python",
   "pygments_lexer": "ipython3",
   "version": "3.11.5"
  }
 },
 "nbformat": 4,
 "nbformat_minor": 5
}
